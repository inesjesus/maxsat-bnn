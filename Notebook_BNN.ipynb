{
  "cells": [
    {
      "cell_type": "markdown",
      "metadata": {
        "id": "R_zNuRHBcEvl"
      },
      "source": [
        "# Binarized Neural Networks\n",
        "\n"
      ]
    },
    {
      "cell_type": "markdown",
      "metadata": {
        "id": "1yYaLae_CJ9-"
      },
      "source": [
        "Inês Jesus, 2073570\n",
        "\n",
        "Auriane Mahfouz, 2072042"
      ]
    },
    {
      "cell_type": "markdown",
      "metadata": {
        "id": "IVpKeIDacOry"
      },
      "source": [
        "## Importing Libraries"
      ]
    },
    {
      "cell_type": "code",
      "execution_count": 251,
      "metadata": {
        "colab": {
          "base_uri": "https://localhost:8080/"
        },
        "id": "F6V2_vLUDrEi",
        "outputId": "a1855d24-8d97-46c4-d498-743dd2cb996c"
      },
      "outputs": [
        {
          "output_type": "stream",
          "name": "stdout",
          "text": [
            "Requirement already satisfied: python-sat in /usr/local/lib/python3.10/dist-packages (1.8.dev13)\n",
            "Requirement already satisfied: six in /usr/local/lib/python3.10/dist-packages (from python-sat) (1.16.0)\n"
          ]
        }
      ],
      "source": [
        "! pip install python-sat"
      ]
    },
    {
      "cell_type": "code",
      "execution_count": 252,
      "metadata": {
        "id": "fc_WzdRFuI5U"
      },
      "outputs": [],
      "source": [
        "import itertools\n",
        "import numpy as np\n",
        "from sklearn.model_selection import train_test_split\n",
        "import pandas as pd\n",
        "from pysat.formula import WCNF\n",
        "import time\n",
        "from pysat.examples.rc2 import RC2\n",
        "from pysat.examples.fm import FM\n",
        "from sklearn.metrics import accuracy_score"
      ]
    },
    {
      "cell_type": "code",
      "source": [
        "NUM_INPUT = 5"
      ],
      "metadata": {
        "id": "iWmOR29aebCa"
      },
      "execution_count": 253,
      "outputs": []
    },
    {
      "cell_type": "markdown",
      "metadata": {
        "id": "hAVABhWdcT22"
      },
      "source": [
        "## Generating Dataset"
      ]
    },
    {
      "cell_type": "code",
      "execution_count": 254,
      "metadata": {
        "id": "Brw5eDifxohE"
      },
      "outputs": [],
      "source": [
        "inputs = list(itertools.product([-1,1], repeat=NUM_INPUT))"
      ]
    },
    {
      "cell_type": "code",
      "execution_count": 255,
      "metadata": {
        "colab": {
          "base_uri": "https://localhost:8080/"
        },
        "id": "luODAwPEx0OI",
        "outputId": "3886a909-29cd-47e8-dfa4-b2572d79ba5c"
      },
      "outputs": [
        {
          "output_type": "stream",
          "name": "stdout",
          "text": [
            "(-1, -1, -1, -1, -1)\n",
            "(-1, -1, -1, -1, 1)\n",
            "(-1, -1, -1, 1, -1)\n",
            "(-1, -1, -1, 1, 1)\n",
            "(-1, -1, 1, -1, -1)\n",
            "(-1, -1, 1, -1, 1)\n",
            "(-1, -1, 1, 1, -1)\n",
            "(-1, -1, 1, 1, 1)\n",
            "(-1, 1, -1, -1, -1)\n",
            "(-1, 1, -1, -1, 1)\n",
            "(-1, 1, -1, 1, -1)\n",
            "(-1, 1, -1, 1, 1)\n",
            "(-1, 1, 1, -1, -1)\n",
            "(-1, 1, 1, -1, 1)\n",
            "(-1, 1, 1, 1, -1)\n",
            "(-1, 1, 1, 1, 1)\n",
            "(1, -1, -1, -1, -1)\n",
            "(1, -1, -1, -1, 1)\n",
            "(1, -1, -1, 1, -1)\n",
            "(1, -1, -1, 1, 1)\n",
            "(1, -1, 1, -1, -1)\n",
            "(1, -1, 1, -1, 1)\n",
            "(1, -1, 1, 1, -1)\n",
            "(1, -1, 1, 1, 1)\n",
            "(1, 1, -1, -1, -1)\n",
            "(1, 1, -1, -1, 1)\n",
            "(1, 1, -1, 1, -1)\n",
            "(1, 1, -1, 1, 1)\n",
            "(1, 1, 1, -1, -1)\n",
            "(1, 1, 1, -1, 1)\n",
            "(1, 1, 1, 1, -1)\n",
            "(1, 1, 1, 1, 1)\n"
          ]
        }
      ],
      "source": [
        "for x in inputs:\n",
        "  print(x)"
      ]
    },
    {
      "cell_type": "markdown",
      "metadata": {
        "id": "9WUPL8y7cmkc"
      },
      "source": [
        "Defining some node functions:"
      ]
    },
    {
      "cell_type": "code",
      "execution_count": 256,
      "metadata": {
        "id": "Er776KNaLsV-"
      },
      "outputs": [],
      "source": [
        "# Node function 1 to return majority of the input nodes\n",
        "def majority_function(x):\n",
        "    return 1 if sum(x) > 0 else -1"
      ]
    },
    {
      "cell_type": "code",
      "execution_count": 257,
      "metadata": {
        "id": "hHj5BrjlLjW5"
      },
      "outputs": [],
      "source": [
        "# Node function 2 returns parity of positive nodes\n",
        "def parity_function(x):\n",
        "    count_ones = sum(1 for xi in x if xi == 1)\n",
        "    return 1 if count_ones % 2 == 0 else -1"
      ]
    },
    {
      "cell_type": "code",
      "execution_count": 258,
      "metadata": {
        "id": "wHFG3pHbMopj"
      },
      "outputs": [],
      "source": [
        "# Node function 3 returns if the first n or last n nodes are all positive\n",
        "def first_or_last_n(x,n):\n",
        "    first_n = sum([x[i] == 1 for i in range(n)]) == n\n",
        "    last_n = sum([x[i] == 1 for i in range(-n,0)]) == n\n",
        "    first_or_last = first_n or last_n\n",
        "    return 1 if first_or_last else -1"
      ]
    },
    {
      "cell_type": "code",
      "execution_count": 259,
      "metadata": {
        "id": "rl-YPa3m4cC_"
      },
      "outputs": [],
      "source": [
        "# Node function 4 returns negation of input node i, i=1,...,5\n",
        "def negation_input(x,i):\n",
        "    return -x[i-1]"
      ]
    },
    {
      "cell_type": "code",
      "execution_count": 260,
      "metadata": {
        "id": "UltjiEM-5FUU"
      },
      "outputs": [],
      "source": [
        "# Node function 5 returns XNOR operator on inputs i and j, i,j = 1,...,5\n",
        "def xnor(x,i,j):\n",
        "    xnor_result = (x[i-1] == -1 and x[j-1] == -1) or (x[i-1] == 1 and x[j-1] == 1)\n",
        "    return 1 if xnor_result else -1"
      ]
    },
    {
      "cell_type": "markdown",
      "metadata": {
        "id": "hQvHK2RrcrU3"
      },
      "source": [
        "Assigning labels based on the five node functions:"
      ]
    },
    {
      "cell_type": "code",
      "source": [
        "# # function f1\n",
        "# targets = [(x[0] and x[1],\n",
        "#             x[2] and x[3],\n",
        "#             x[1] and x[4],\n",
        "#             x[0] and x[3],\n",
        "#             x[2] and x[4])\n",
        "#            for x in inputs]"
      ],
      "metadata": {
        "id": "jG_aVFFjd9ox"
      },
      "execution_count": 261,
      "outputs": []
    },
    {
      "cell_type": "code",
      "execution_count": 262,
      "metadata": {
        "id": "EZ8u2AZpzkzQ"
      },
      "outputs": [],
      "source": [
        "# function f2\n",
        "targets = [(x[0] or (x[1] and x[2]),\n",
        "            -x[1],\n",
        "            ((x[0] or x[1]) and (x[2] or x[3])) or (x[4] and (-x[0] and -x[2])),\n",
        "            (x[0] and x[1] and x[2]) or (x[3] and x[4]),\n",
        "            -x[1] and -x[3] and -x[4])\n",
        "            for x in inputs]"
      ]
    },
    {
      "cell_type": "code",
      "execution_count": 263,
      "metadata": {
        "id": "Tp1AlNsy72L8"
      },
      "outputs": [],
      "source": [
        "# # function f3\n",
        "# targets = [[majority_function(x),\n",
        "#             parity_function(x),\n",
        "#             first_or_last_n(x,2),\n",
        "#             negation_input(x,3),\n",
        "#             xnor(x,2,3)]\n",
        "#             for x in inputs]"
      ]
    },
    {
      "cell_type": "code",
      "execution_count": 264,
      "metadata": {
        "colab": {
          "base_uri": "https://localhost:8080/"
        },
        "id": "SLOX4qnTULaB",
        "outputId": "18d2cdd9-7f67-42ad-ba35-768e4574cf44"
      },
      "outputs": [
        {
          "output_type": "execute_result",
          "data": {
            "text/plain": [
              "[(-1, 1, -1, -1, 1),\n",
              " (-1, 1, -1, -1, -1),\n",
              " (-1, 1, -1, -1, 1),\n",
              " (-1, 1, -1, -1, -1),\n",
              " (-1, 1, 1, 1, 1),\n",
              " (-1, 1, 1, 1, -1),\n",
              " (-1, 1, 1, 1, 1),\n",
              " (-1, 1, 1, 1, -1),\n",
              " (-1, -1, -1, -1, 1),\n",
              " (-1, -1, -1, -1, -1),\n",
              " (-1, -1, -1, -1, 1),\n",
              " (-1, -1, -1, -1, -1),\n",
              " (-1, -1, 1, 1, 1),\n",
              " (-1, -1, 1, 1, -1),\n",
              " (-1, -1, 1, 1, 1),\n",
              " (-1, -1, 1, 1, -1),\n",
              " (1, 1, -1, -1, 1),\n",
              " (1, 1, -1, -1, -1),\n",
              " (1, 1, -1, -1, 1),\n",
              " (1, 1, -1, -1, -1),\n",
              " (1, 1, 1, 1, 1),\n",
              " (1, 1, 1, 1, -1),\n",
              " (1, 1, 1, 1, 1),\n",
              " (1, 1, 1, 1, -1),\n",
              " (1, -1, -1, -1, 1),\n",
              " (1, -1, -1, -1, -1),\n",
              " (1, -1, -1, -1, 1),\n",
              " (1, -1, -1, -1, -1),\n",
              " (1, -1, 1, 1, 1),\n",
              " (1, -1, 1, 1, -1),\n",
              " (1, -1, 1, 1, 1),\n",
              " (1, -1, 1, 1, -1)]"
            ]
          },
          "metadata": {},
          "execution_count": 264
        }
      ],
      "source": [
        "targets"
      ]
    },
    {
      "cell_type": "code",
      "execution_count": 265,
      "metadata": {
        "colab": {
          "base_uri": "https://localhost:8080/"
        },
        "id": "twor8p2U8Xt8",
        "outputId": "f49416fa-3f45-48b5-d66f-20ccf05b71a0"
      },
      "outputs": [
        {
          "output_type": "stream",
          "name": "stdout",
          "text": [
            "24\n",
            "8\n"
          ]
        }
      ],
      "source": [
        "X_train, X_test, y_train, y_test = train_test_split(inputs,\n",
        "                                                    targets,\n",
        "                                                    test_size=0.25,\n",
        "                                                    random_state=42)\n",
        "\n",
        "print(len(X_train))\n",
        "print(len(X_test))"
      ]
    },
    {
      "cell_type": "markdown",
      "metadata": {
        "id": "jA0Uq8yPMbOX"
      },
      "source": [
        "Check balance per function, because it importance to have a nice balance at least in the training dataset, so that the model doesn't learn to predict all 1's are all -1's for a certain function"
      ]
    },
    {
      "cell_type": "code",
      "source": [
        "NUM_OUTPUT = len(targets[0])"
      ],
      "metadata": {
        "id": "U1RNmlFeepS6"
      },
      "execution_count": 266,
      "outputs": []
    },
    {
      "cell_type": "code",
      "execution_count": 267,
      "metadata": {
        "colab": {
          "base_uri": "https://localhost:8080/"
        },
        "id": "2Ld3kmJ_UUmF",
        "outputId": "18b1b8fe-2eaa-4b4e-8f8b-2400486f3e28"
      },
      "outputs": [
        {
          "output_type": "execute_result",
          "data": {
            "text/plain": [
              "5"
            ]
          },
          "metadata": {},
          "execution_count": 267
        }
      ],
      "source": [
        "NUM_OUTPUT"
      ]
    },
    {
      "cell_type": "code",
      "execution_count": 268,
      "metadata": {
        "colab": {
          "base_uri": "https://localhost:8080/"
        },
        "id": "MWm7GtPKSKDb",
        "outputId": "bc51275f-0b31-418a-90ee-59b9de617490"
      },
      "outputs": [
        {
          "output_type": "stream",
          "name": "stdout",
          "text": [
            "Targets\n",
            "   Positive  Negative\n",
            "1       0.5       0.5\n",
            "2       0.5       0.5\n",
            "3       0.5       0.5\n",
            "4       0.5       0.5\n",
            "5       0.5       0.5\n",
            "\n",
            "Training set\n",
            "   Positive  Negative\n",
            "1      0.46      0.54\n",
            "2      0.62      0.38\n",
            "3      0.54      0.46\n",
            "4      0.54      0.46\n",
            "5      0.54      0.46\n",
            "\n",
            "Test set\n",
            "   Positive  Negative\n",
            "1      0.62      0.38\n",
            "2      0.12      0.88\n",
            "3      0.38      0.62\n",
            "4      0.38      0.62\n",
            "5      0.38      0.62\n",
            "\n"
          ]
        }
      ],
      "source": [
        "for i, dataset in enumerate([targets, y_train, y_test]):\n",
        "  dict = {0: \"Targets\", 1: \"Training set\", 2: \"Test set\"}\n",
        "  print(dict[i])\n",
        "  dataset_data = []\n",
        "\n",
        "  for function in range(NUM_OUTPUT):\n",
        "    pos_input = 0\n",
        "    for y in dataset:\n",
        "      if y[function]==1: pos_input+=1\n",
        "    positive_ratio = np.round(pos_input/len(dataset),2)\n",
        "    negative_ratio = np.round((len(dataset)-pos_input)/len(dataset),2)\n",
        "\n",
        "    dataset_data.append([positive_ratio, negative_ratio])\n",
        "\n",
        "  df = pd.DataFrame(dataset_data, columns=['Positive', 'Negative'], index= list(range(1,NUM_OUTPUT+1)))\n",
        "\n",
        "  print(df)\n",
        "  print()"
      ]
    },
    {
      "cell_type": "markdown",
      "metadata": {
        "id": "g7DABmNCAk3k"
      },
      "source": [
        "## Variable indexing"
      ]
    },
    {
      "cell_type": "code",
      "source": [
        "layers = [5, 7, NUM_OUTPUT]"
      ],
      "metadata": {
        "id": "_8rV3hROe8G1"
      },
      "execution_count": 269,
      "outputs": []
    },
    {
      "cell_type": "code",
      "execution_count": 270,
      "metadata": {
        "id": "NRVbL2UE0cQb"
      },
      "outputs": [],
      "source": [
        "def neuron_index(t, n_layer, i):\n",
        "    \"\"\"\n",
        "    t: training sample index\n",
        "    n_layer: layer index (input is layer 1)\n",
        "    i: neuron index\n",
        "    \"\"\"\n",
        "    cum_sum = np.sum(layers[0:n_layer-1]) * len(X_train)\n",
        "    return int(cum_sum + t * layers[n_layer-1] + i + 1)\n",
        "\n",
        "def weight_index(n_layer, i, j):\n",
        "    \"\"\"\n",
        "    n_layer: layer index, starts in 1\n",
        "    i: previous neuron index\n",
        "    j: next neuron index\n",
        "    \"\"\"\n",
        "    n_neurons = np.sum(layers) * len(X_train)\n",
        "    cum_weight_sum = sum(x * y for x, y in zip(layers[0:n_layer-1], layers[1:n_layer]))\n",
        "    return int(n_neurons + cum_weight_sum + i * layers[n_layer] + j + 1)"
      ]
    },
    {
      "cell_type": "code",
      "execution_count": 271,
      "metadata": {
        "colab": {
          "base_uri": "https://localhost:8080/"
        },
        "id": "iKiJU77j68wf",
        "outputId": "aa870201-1117-444d-e8c8-026bed96e9f8"
      },
      "outputs": [
        {
          "output_type": "execute_result",
          "data": {
            "text/plain": [
              "1"
            ]
          },
          "metadata": {},
          "execution_count": 271
        }
      ],
      "source": [
        "# first input\n",
        "neuron_index(0,1,0)"
      ]
    },
    {
      "cell_type": "code",
      "execution_count": 272,
      "metadata": {
        "colab": {
          "base_uri": "https://localhost:8080/"
        },
        "id": "gO-Bm5426_qc",
        "outputId": "0b5ecf9d-666f-423a-83e3-5a58f47dc850"
      },
      "outputs": [
        {
          "output_type": "execute_result",
          "data": {
            "text/plain": [
              "120"
            ]
          },
          "metadata": {},
          "execution_count": 272
        }
      ],
      "source": [
        "# last input\n",
        "neuron_index(len(X_train)-1,1,layers[0]-1)"
      ]
    },
    {
      "cell_type": "code",
      "execution_count": 273,
      "metadata": {
        "colab": {
          "base_uri": "https://localhost:8080/"
        },
        "id": "wS388IyA1O7N",
        "outputId": "7bd54204-9351-4361-8c15-598fa1b4191c"
      },
      "outputs": [
        {
          "output_type": "execute_result",
          "data": {
            "text/plain": [
              "121"
            ]
          },
          "metadata": {},
          "execution_count": 273
        }
      ],
      "source": [
        "# first hidden neuron (or output in case there is no hidden layer)\n",
        "neuron_index(0,2,0)"
      ]
    },
    {
      "cell_type": "code",
      "execution_count": 274,
      "metadata": {
        "colab": {
          "base_uri": "https://localhost:8080/"
        },
        "id": "IT0MvFvx1Vsv",
        "outputId": "47c8c368-549f-4e6a-9e88-e21d2171c6eb"
      },
      "outputs": [
        {
          "output_type": "execute_result",
          "data": {
            "text/plain": [
              "288"
            ]
          },
          "metadata": {},
          "execution_count": 274
        }
      ],
      "source": [
        "# last hidden neuron (or output in case there is no hidden layer)\n",
        "neuron_index(len(X_train)-1,2,layers[-2]-1)"
      ]
    },
    {
      "cell_type": "code",
      "execution_count": 275,
      "metadata": {
        "colab": {
          "base_uri": "https://localhost:8080/"
        },
        "id": "C7t5zgIS1nCG",
        "outputId": "4d9d9b27-6d7d-44d5-a1a3-9985077f617e"
      },
      "outputs": [
        {
          "output_type": "execute_result",
          "data": {
            "text/plain": [
              "289"
            ]
          },
          "metadata": {},
          "execution_count": 275
        }
      ],
      "source": [
        "# first output\n",
        "neuron_index(0,len(layers),0)"
      ]
    },
    {
      "cell_type": "code",
      "execution_count": 276,
      "metadata": {
        "colab": {
          "base_uri": "https://localhost:8080/"
        },
        "id": "lLgsDfHV1wAk",
        "outputId": "5350a313-9b2c-4923-8436-c13c65decfce"
      },
      "outputs": [
        {
          "output_type": "execute_result",
          "data": {
            "text/plain": [
              "408"
            ]
          },
          "metadata": {},
          "execution_count": 276
        }
      ],
      "source": [
        "# last output\n",
        "neuron_index(len(X_train)-1,len(layers),NUM_OUTPUT-1)"
      ]
    },
    {
      "cell_type": "code",
      "execution_count": 277,
      "metadata": {
        "colab": {
          "base_uri": "https://localhost:8080/"
        },
        "id": "dm3cLsD03tST",
        "outputId": "09cad9c3-8f37-41e2-c203-fef4e9279817"
      },
      "outputs": [
        {
          "output_type": "execute_result",
          "data": {
            "text/plain": [
              "409"
            ]
          },
          "metadata": {},
          "execution_count": 277
        }
      ],
      "source": [
        "# weight between first neuron of input layer and first neuron of first hidden layer\n",
        "weight_index(1,0,0)"
      ]
    },
    {
      "cell_type": "code",
      "execution_count": 278,
      "metadata": {
        "colab": {
          "base_uri": "https://localhost:8080/"
        },
        "id": "4H72SOgS375C",
        "outputId": "bf5b9ea4-88a4-4706-ecbf-8d9ab0915c83"
      },
      "outputs": [
        {
          "output_type": "execute_result",
          "data": {
            "text/plain": [
              "478"
            ]
          },
          "metadata": {},
          "execution_count": 278
        }
      ],
      "source": [
        "# weight between last neuron of last hidden layer and last neuron of output layer\n",
        "weight_index(len(layers)-1,layers[-2]-1,layers[-1]-1)"
      ]
    },
    {
      "cell_type": "markdown",
      "metadata": {
        "id": "_9hiQCWiN6hX"
      },
      "source": [
        "## BNN encoding"
      ]
    },
    {
      "cell_type": "code",
      "execution_count": 279,
      "metadata": {
        "id": "a_rotq-iDufU"
      },
      "outputs": [],
      "source": [
        "wcnf = WCNF()"
      ]
    },
    {
      "cell_type": "code",
      "execution_count": 280,
      "metadata": {
        "colab": {
          "base_uri": "https://localhost:8080/"
        },
        "id": "RGmPp3vgxiEr",
        "outputId": "db28d600-df72-4033-8640-184d6bec9769"
      },
      "outputs": [
        {
          "output_type": "stream",
          "name": "stdout",
          "text": [
            "For first sample (-1, 1, 1, -1, -1)\n",
            "Chosen indexes (0, 1, 2)\n",
            "Respective neurons [-1, 1, 1]\n",
            "To make next neuron positive [409, -416, -423, 121]\n",
            "And to make it negative [-409, 416, 423, -121]\n",
            "If neither all weights are of same sign or of different sign as input, this neuron combination doesn't influence the next neuron\n"
          ]
        }
      ],
      "source": [
        "print(\"For first sample\", X_train[0])\n",
        "for subset in itertools.combinations(range(layers[0]), layers[0] // 2 + 1):\n",
        "  neuron_next_x = neuron_index(0,2,0)\n",
        "  print(\"Chosen indexes\", subset)\n",
        "  print(\"Respective neurons\", list(X_train[0][idx] for idx in subset))\n",
        "  w_pos_clause = [weight_index(1,neuron,0) * -signal for neuron, signal in zip(subset,list(X_train[0][idx] for idx in subset))]\n",
        "  pos_clause = [int(a) for a in w_pos_clause + [neuron_next_x]]\n",
        "  print(\"To make next neuron positive\", pos_clause)\n",
        "  print(\"And to make it negative\", [-a for a in pos_clause])\n",
        "  print(\"If neither all weights are of same sign or of different sign as input, this neuron combination doesn't influence the next neuron\")\n",
        "  break"
      ]
    },
    {
      "cell_type": "code",
      "execution_count": 281,
      "metadata": {
        "id": "pj8bOPg9wN9w"
      },
      "outputs": [],
      "source": [
        "def add_first_layer(wcnf_formula):\n",
        "  n_next_neurons = layers[1]\n",
        "  for t in range(len(X_train)):\n",
        "    for j in range(n_next_neurons):\n",
        "      neuron_next_x = neuron_index(t,2,j)\n",
        "      input_selection = itertools.combinations(range(layers[0]), layers[0] // 2 + 1)\n",
        "      for subset in input_selection:\n",
        "        input_values = list(X_train[t][idx] for idx in subset)\n",
        "\n",
        "        # make next neuron positive\n",
        "        w_pos_clause = [weight_index(1,neuron,j) * -signal for neuron, signal in zip(subset,input_values)]\n",
        "        pos_clause = [int(a) for a in w_pos_clause+[neuron_next_x]]\n",
        "        wcnf_formula.append(pos_clause)\n",
        "\n",
        "        # make next neuron negative\n",
        "        neg_clause = [-a for a in pos_clause]\n",
        "        wcnf_formula.append(neg_clause)\n",
        "\n",
        "  return wcnf_formula"
      ]
    },
    {
      "cell_type": "code",
      "execution_count": 282,
      "metadata": {
        "id": "CCufYJjLjDdW"
      },
      "outputs": [],
      "source": [
        "def add_layer(layer_n,wcnf_formula):\n",
        "  n_prev_neurons = layers[layer_n-1]\n",
        "  n_next_neurons = layers[layer_n]\n",
        "  for t in range(len(X_train)):\n",
        "    # add hard clauses for connection between neurons\n",
        "    for j in range(n_next_neurons):\n",
        "      neuron_next_x = neuron_index(t,layer_n+1,j)\n",
        "      input_selection = itertools.combinations(range(n_prev_neurons), n_prev_neurons // 2 + 1)\n",
        "      for subset in input_selection:\n",
        "        input_values = itertools.product([-1, 1], repeat= n_prev_neurons // 2 + 1)\n",
        "        for comb in input_values:\n",
        "          x_clause = [neuron_index(t,layer_n,subset[neuron])*signal for neuron,signal in enumerate(comb)]\n",
        "\n",
        "          w_pos_clause = [weight_index(layer_n,subset[neuron],j)*signal for neuron,signal in enumerate(comb)]\n",
        "          pos_clause = [int(a) for a in x_clause+w_pos_clause+[neuron_next_x]]\n",
        "          wcnf_formula.append(pos_clause)\n",
        "\n",
        "          w_neg_clause = [- weight for weight in w_pos_clause]\n",
        "          neg_clause = [int(a) for a in x_clause+w_neg_clause+[-1*neuron_next_x]]\n",
        "          wcnf_formula.append(neg_clause)\n",
        "  return wcnf_formula"
      ]
    },
    {
      "cell_type": "code",
      "execution_count": 283,
      "metadata": {
        "id": "wG7e9az-RQUA"
      },
      "outputs": [],
      "source": [
        "def add_output_layer(wcnf_formula):\n",
        "  for t in range(len(y_train)):\n",
        "    for j in range(NUM_OUTPUT):\n",
        "      y_clause = [neuron_index(t,len(layers),j)*y_train[t][j]]\n",
        "      wcnf_formula.append(y_clause, weight = 1)\n",
        "  return wcnf_formula"
      ]
    },
    {
      "cell_type": "code",
      "execution_count": 284,
      "metadata": {
        "id": "xckKF5S8U4kr"
      },
      "outputs": [],
      "source": [
        "start = time.time()\n",
        "for i,layer in enumerate(layers):\n",
        "  if i == 0:\n",
        "    wcnf = add_first_layer(wcnf)\n",
        "  elif i < len(layers)-1:\n",
        "    # add hard clauses of connections between neurons\n",
        "    wcnf = add_layer(i+1,wcnf)\n",
        "  else:\n",
        "    # add soft clauses of output\n",
        "    wcnf = add_output_layer(wcnf)\n",
        "layers_clauses_time = time.time()-start"
      ]
    },
    {
      "cell_type": "code",
      "execution_count": 285,
      "metadata": {
        "colab": {
          "base_uri": "https://localhost:8080/"
        },
        "id": "Z_QmL7ePM5r6",
        "outputId": "8f247cd9-ed6e-43cf-823d-0a6175840867"
      },
      "outputs": [
        {
          "output_type": "execute_result",
          "data": {
            "text/plain": [
              "[[409, -416, -423, 121],\n",
              " [-409, 416, 423, -121],\n",
              " [409, -416, 430, 121],\n",
              " [-409, 416, -430, -121],\n",
              " [409, -416, 437, 121]]"
            ]
          },
          "metadata": {},
          "execution_count": 285
        }
      ],
      "source": [
        "wcnf.hard[:5]"
      ]
    },
    {
      "cell_type": "code",
      "execution_count": 286,
      "metadata": {
        "colab": {
          "base_uri": "https://localhost:8080/"
        },
        "id": "TArOhS-TSMM-",
        "outputId": "1f822a25-0bb4-4597-e07a-c63057540fdd"
      },
      "outputs": [
        {
          "output_type": "execute_result",
          "data": {
            "text/plain": [
              "[[285, 286, -287, 288, -463, -468, 473, -478, -408],\n",
              " [285, 286, 287, -288, 463, 468, 473, -478, 408],\n",
              " [285, 286, 287, -288, -463, -468, -473, 478, -408],\n",
              " [285, 286, 287, 288, 463, 468, 473, 478, 408],\n",
              " [285, 286, 287, 288, -463, -468, -473, -478, -408]]"
            ]
          },
          "metadata": {},
          "execution_count": 286
        }
      ],
      "source": [
        "wcnf.hard[-5:]"
      ]
    },
    {
      "cell_type": "code",
      "execution_count": 287,
      "metadata": {
        "colab": {
          "base_uri": "https://localhost:8080/"
        },
        "id": "IYmxibtOnoCp",
        "outputId": "8dbda546-e4a5-4d30-c1c6-8e787ba09057"
      },
      "outputs": [
        {
          "output_type": "execute_result",
          "data": {
            "text/plain": [
              "[[-404], [405], [406], [407], [408]]"
            ]
          },
          "metadata": {},
          "execution_count": 287
        }
      ],
      "source": [
        "wcnf.soft[-5:]"
      ]
    },
    {
      "cell_type": "code",
      "execution_count": 288,
      "metadata": {
        "colab": {
          "base_uri": "https://localhost:8080/"
        },
        "id": "dJBFBtAGeFC1",
        "outputId": "2c8dae1a-48f7-43ee-9b2d-6a647b1a76e4"
      },
      "outputs": [
        {
          "output_type": "execute_result",
          "data": {
            "text/plain": [
              "137760"
            ]
          },
          "metadata": {},
          "execution_count": 288
        }
      ],
      "source": [
        "len(wcnf.hard)"
      ]
    },
    {
      "cell_type": "code",
      "execution_count": 289,
      "metadata": {
        "colab": {
          "base_uri": "https://localhost:8080/"
        },
        "id": "zMdotQ-rvW4P",
        "outputId": "2852c7bc-3055-4202-b6c1-4816f9a34ce6"
      },
      "outputs": [
        {
          "output_type": "execute_result",
          "data": {
            "text/plain": [
              "120"
            ]
          },
          "metadata": {},
          "execution_count": 289
        }
      ],
      "source": [
        "len(wcnf.soft)"
      ]
    },
    {
      "cell_type": "code",
      "execution_count": 290,
      "metadata": {
        "id": "TGXMqt5h6ZSV"
      },
      "outputs": [],
      "source": [
        "wcnf_copy = wcnf.copy()"
      ]
    },
    {
      "cell_type": "code",
      "execution_count": 291,
      "metadata": {
        "id": "1iFVV2cLmN5V"
      },
      "outputs": [],
      "source": [
        "solver = RC2(wcnf_copy)\n",
        "# solver = FM(wcnf_copy)"
      ]
    },
    {
      "cell_type": "code",
      "execution_count": 292,
      "metadata": {
        "id": "UwzkiBmSmWE4"
      },
      "outputs": [],
      "source": [
        "start = time.time()\n",
        "model = solver.compute()\n",
        "model_compute_time = time.time()-start"
      ]
    },
    {
      "cell_type": "code",
      "execution_count": 293,
      "metadata": {
        "id": "kGv7Py2tEH0X",
        "colab": {
          "base_uri": "https://localhost:8080/"
        },
        "outputId": "b55bf906-8e56-412a-9898-971217f9bbc3"
      },
      "outputs": [
        {
          "output_type": "execute_result",
          "data": {
            "text/plain": [
              "0"
            ]
          },
          "metadata": {},
          "execution_count": 293
        }
      ],
      "source": [
        "solver.cost"
      ]
    },
    {
      "cell_type": "code",
      "execution_count": 294,
      "metadata": {
        "id": "7FrzNgDMmgGD",
        "colab": {
          "base_uri": "https://localhost:8080/"
        },
        "outputId": "374fc8e0-b2c3-4b4d-9e78-420676eff9f3"
      },
      "outputs": [
        {
          "output_type": "stream",
          "name": "stdout",
          "text": [
            "[-1, -2, -3, -4, -5, -6, -7, -8, -9, -10, -11, -12, -13, -14, -15, -16, -17, -18, -19, -20, -21, -22, -23, -24, -25, -26, -27, -28, -29, -30, -31, -32, -33, -34, -35, -36, -37, -38, -39, -40, -41, -42, -43, -44, -45, -46, -47, -48, -49, -50, -51, -52, -53, -54, -55, -56, -57, -58, -59, -60, -61, -62, -63, -64, -65, -66, -67, -68, -69, -70, -71, -72, -73, -74, -75, -76, -77, -78, -79, -80, -81, -82, -83, -84, -85, -86, -87, -88, -89, -90, -91, -92, -93, -94, -95, -96, -97, -98, -99, -100, -101, -102, -103, -104, -105, -106, -107, -108, -109, -110, -111, -112, -113, -114, -115, -116, -117, -118, -119, -120, 121, 122, -123, -124, -125, -126, 127, 128, 129, -130, 131, -132, 133, 134, -135, 136, -137, 138, -139, -140, 141, -142, 143, -144, 145, -146, -147, -148, -149, 150, -151, 152, 153, 154, 155, -156, -157, -158, 159, -160, -161, -162, 163, -164, 165, 166, -167, 168, -169, -170, 171, 172, -173, 174, 175, 176, -177, -178, -179, 180, -181, 182, -183, 184, -185, -186, 187, -188, 189, 190, 191, -192, 193, -194, -195, -196, -197, 198, -199, 200, 201, 202, 203, 204, -205, 206, -207, 208, 209, -210, -211, 212, -213, 214, -215, 216, 217, -218, -219, 220, -221, -222, 223, -224, 225, 226, 227, 228, -229, 230, 231, 232, -233, -234, 235, -236, 237, -238, -239, -240, 241, -242, -243, 244, -245, 246, -247, -248, -249, 250, 251, 252, 253, 254, -255, 256, -257, -258, 259, 260, 261, -262, -263, -264, -265, -266, 267, -268, 269, -270, -271, -272, -273, -274, -275, -276, 277, 278, 279, 280, -281, 282, 283, -284, -285, 286, 287, 288, -289, -290, 291, 292, 293, -294, 295, -296, -297, 298, -299, 300, 301, 302, 303, 304, 305, -306, -307, 308, -309, 310, 311, 312, -313, -314, -315, 316, 317, -318, -319, -320, -321, -322, -323, 324, 325, 326, 327, -328, -329, 330, -331, -332, -333, -334, 335, -336, -337, 338, 339, -340, -341, -342, 343, -344, 345, -346, -347, -348, 349, 350, 351, 352, -353, 354, -355, -356, -357, -358, 359, 360, 361, 362, 363, 364, 365, -366, -367, 368, 369, -370, 371, 372, -373, 374, 375, 376, 377, 378, -379, 380, 381, 382, -383, -384, -385, -386, -387, 388, -389, -390, 391, 392, 393, 394, -395, 396, 397, 398, 399, 400, -401, -402, -403, -404, 405, 406, 407, 408, -409, 410, 411, -412, 413, -414, -415, 416, -417, 418, -419, -420, -421, -422, -423, 424, -425, -426, 427, -428, 429, 430, -431, 432, -433, 434, 435, 436, -437, -438, 439, 440, 441, 442, -443, -444, -445, -446, -447, 448, 449, 450, -451, -452, 453, 454, -455, -456, -457, -458, -459, 460, -461, -462, -463, 464, 465, 466, 467, -468, -469, 470, -471, -472, -473, -474, 475, 476, 477, 478]\n"
          ]
        }
      ],
      "source": [
        "print(solver.model)"
      ]
    },
    {
      "cell_type": "code",
      "execution_count": 295,
      "metadata": {
        "id": "VWgKSyrZblkc",
        "colab": {
          "base_uri": "https://localhost:8080/"
        },
        "outputId": "720e893f-93bb-4291-9831-5d7cf8e0e303"
      },
      "outputs": [
        {
          "output_type": "execute_result",
          "data": {
            "text/plain": [
              "478"
            ]
          },
          "metadata": {},
          "execution_count": 295
        }
      ],
      "source": [
        "len(model)"
      ]
    },
    {
      "cell_type": "code",
      "execution_count": 296,
      "metadata": {
        "id": "h8LomnYdwlH-",
        "colab": {
          "base_uri": "https://localhost:8080/"
        },
        "outputId": "03f31b1e-f846-4d59-c7ed-48d081b63e3c"
      },
      "outputs": [
        {
          "output_type": "stream",
          "name": "stdout",
          "text": [
            "W1:\n",
            "[[-1  1  1 -1  1 -1 -1]\n",
            " [ 1 -1  1 -1 -1 -1 -1]\n",
            " [-1  1 -1 -1  1 -1  1]\n",
            " [ 1 -1  1 -1  1  1  1]\n",
            " [-1 -1  1  1  1  1 -1]]\n",
            "\n",
            "W2:\n",
            "[[-1 -1 -1 -1  1]\n",
            " [ 1  1 -1 -1  1]\n",
            " [ 1 -1 -1 -1 -1]\n",
            " [-1  1 -1 -1 -1]\n",
            " [ 1  1  1  1 -1]\n",
            " [-1  1 -1 -1 -1]\n",
            " [-1  1  1  1  1]]\n",
            "\n"
          ]
        }
      ],
      "source": [
        "for i in range(1,len(layers)):\n",
        "  w_i = np.sign(solver.model[weight_index(i,0,0)-1:weight_index(i,layers[i-1]-1,layers[i]-1)]).reshape(layers[i-1],layers[i])\n",
        "  print(\"W\"+str(i)+\":\")\n",
        "  print(w_i)\n",
        "  print()\n",
        "  if i == 1:\n",
        "    train_h_i = np.sign(np.matmul(X_train,w_i))\n",
        "    test_h_i = np.sign(np.matmul(X_test,w_i))\n",
        "  else:\n",
        "    train_h_i = np.sign(np.matmul(train_h_i,w_i))\n",
        "    test_h_i = np.sign(np.matmul(test_h_i,w_i))"
      ]
    },
    {
      "cell_type": "code",
      "source": [
        "pred_train = train_h_i\n",
        "pred_test = test_h_i"
      ],
      "metadata": {
        "id": "uIslijUNzbSg"
      },
      "execution_count": 297,
      "outputs": []
    },
    {
      "cell_type": "markdown",
      "metadata": {
        "id": "JWLJA-_fHnf8"
      },
      "source": [
        "## Evaluation"
      ]
    },
    {
      "cell_type": "code",
      "execution_count": 298,
      "metadata": {
        "id": "sOsI6SqDt9n_",
        "colab": {
          "base_uri": "https://localhost:8080/"
        },
        "outputId": "e5a244d2-d6e7-4a86-ccb7-7d1d8a0f6136"
      },
      "outputs": [
        {
          "output_type": "stream",
          "name": "stdout",
          "text": [
            "Training acc: 1.0\n",
            "Test acc: 1.0\n"
          ]
        }
      ],
      "source": [
        "train_acc = accuracy_score(list(itertools.chain(*np.sign(np.array(y_train)))), list(itertools.chain(*pred_train)))\n",
        "test_acc = accuracy_score(list(itertools.chain(*np.sign(np.array(y_test)))), list(itertools.chain(*pred_test)))\n",
        "\n",
        "print(f\"Training acc: {train_acc}\")\n",
        "print(f\"Test acc: {test_acc}\")"
      ]
    },
    {
      "cell_type": "code",
      "execution_count": 299,
      "metadata": {
        "id": "y1XgCSWNGpFj",
        "colab": {
          "base_uri": "https://localhost:8080/"
        },
        "outputId": "aefee10f-983f-410e-9ec8-f17c16192ae4"
      },
      "outputs": [
        {
          "output_type": "execute_result",
          "data": {
            "text/plain": [
              "array([[ True,  True,  True,  True,  True],\n",
              "       [ True,  True,  True,  True,  True],\n",
              "       [ True,  True,  True,  True,  True],\n",
              "       [ True,  True,  True,  True,  True],\n",
              "       [ True,  True,  True,  True,  True],\n",
              "       [ True,  True,  True,  True,  True],\n",
              "       [ True,  True,  True,  True,  True],\n",
              "       [ True,  True,  True,  True,  True]])"
            ]
          },
          "metadata": {},
          "execution_count": 299
        }
      ],
      "source": [
        "y_test == pred_test"
      ]
    },
    {
      "cell_type": "markdown",
      "metadata": {
        "id": "DJEE4aEaHf7Y"
      },
      "source": [
        "#### Accuracy per function"
      ]
    },
    {
      "cell_type": "code",
      "execution_count": 300,
      "metadata": {
        "id": "k1nxayukHOZu",
        "colab": {
          "base_uri": "https://localhost:8080/"
        },
        "outputId": "75665f36-f843-4a51-fc5b-888c48fe091a"
      },
      "outputs": [
        {
          "output_type": "execute_result",
          "data": {
            "text/plain": [
              "array([8, 8, 8, 8, 8])"
            ]
          },
          "metadata": {},
          "execution_count": 300
        }
      ],
      "source": [
        "(y_test == pred_test).sum(axis=0)"
      ]
    },
    {
      "cell_type": "code",
      "execution_count": 301,
      "metadata": {
        "id": "aLp6xOr-G3ZW",
        "colab": {
          "base_uri": "https://localhost:8080/"
        },
        "outputId": "2954418d-bf34-485b-dd92-3c6e61b0333b"
      },
      "outputs": [
        {
          "output_type": "stream",
          "name": "stdout",
          "text": [
            "[1. 1. 1. 1. 1.]\n"
          ]
        }
      ],
      "source": [
        "#on test\n",
        "test_acc_per_func = (y_test == pred_test).sum(axis=0)/np.array(y_test).shape[0]\n",
        "print(test_acc_per_func)"
      ]
    },
    {
      "cell_type": "code",
      "execution_count": 302,
      "metadata": {
        "id": "UMu_aCggKIOp",
        "colab": {
          "base_uri": "https://localhost:8080/"
        },
        "outputId": "d85be24f-c227-4796-d62d-3619b35c9c01"
      },
      "outputs": [
        {
          "output_type": "stream",
          "name": "stdout",
          "text": [
            "[1. 1. 1. 1. 1.]\n"
          ]
        }
      ],
      "source": [
        "train_acc_per_func = (y_train == pred_train).sum(axis=0)/np.array(y_train).shape[0]\n",
        "print(train_acc_per_func)"
      ]
    },
    {
      "cell_type": "markdown",
      "metadata": {
        "id": "NiMncZyUoYAH"
      },
      "source": [
        "To remember the functions:\n",
        "\n",
        "```\n",
        "targets = [(majority_function(x),\n",
        "            parity_function(x),\n",
        "            first_or_last_n(x,2),\n",
        "            negation_input(x,3),\n",
        "            xnor(x,2,3)) for x in inputs]\n",
        "```\n",
        "\n"
      ]
    },
    {
      "cell_type": "markdown",
      "metadata": {
        "id": "Y8f5N0-nHd5b"
      },
      "source": [
        "#### Accuracy per sample"
      ]
    },
    {
      "cell_type": "code",
      "execution_count": 303,
      "metadata": {
        "id": "54VVcIO5HdPs",
        "colab": {
          "base_uri": "https://localhost:8080/"
        },
        "outputId": "f166929b-35c6-4840-cacf-24e5404807ca"
      },
      "outputs": [
        {
          "output_type": "execute_result",
          "data": {
            "text/plain": [
              "array([1., 1., 1., 1., 1., 1., 1., 1.])"
            ]
          },
          "metadata": {},
          "execution_count": 303
        }
      ],
      "source": [
        "np.round(np.sum(np.array(y_test) == np.array(pred_test), axis=1)/np.array(y_test).shape[1],2)"
      ]
    },
    {
      "cell_type": "code",
      "execution_count": 304,
      "metadata": {
        "id": "-jGf4BkTU3P0",
        "colab": {
          "base_uri": "https://localhost:8080/"
        },
        "outputId": "f17f0d39-6a9d-4b3f-9e69-817b7638968a"
      },
      "outputs": [
        {
          "output_type": "execute_result",
          "data": {
            "text/plain": [
              "array([1., 1., 1., 1., 1., 1., 1., 1., 1., 1., 1., 1., 1., 1., 1., 1., 1.,\n",
              "       1., 1., 1., 1., 1., 1., 1.])"
            ]
          },
          "metadata": {},
          "execution_count": 304
        }
      ],
      "source": [
        "np.round(np.sum(np.array(y_train) == np.array(pred_train), axis=1)/np.array(y_train).shape[1],2)"
      ]
    },
    {
      "cell_type": "markdown",
      "metadata": {
        "id": "cZcCE_RyLOpC"
      },
      "source": [
        "## Summary"
      ]
    },
    {
      "cell_type": "code",
      "execution_count": 305,
      "metadata": {
        "id": "_gcyNSu5KS4w",
        "colab": {
          "base_uri": "https://localhost:8080/"
        },
        "outputId": "ae0ae2a8-e015-4d81-832e-0573a300dece"
      },
      "outputs": [
        {
          "output_type": "stream",
          "name": "stdout",
          "text": [
            "Layers: [5, 7, 5]\n",
            "Train size: 24\n",
            "\n",
            "Number of hard clauses: 137760\n",
            "Number of soft clauses: 120\n",
            "Time to add clauses: 0min 11sec\n",
            "\n",
            "Model computing time:  0min 01sec\n",
            "Solver cost: 0\n",
            "Size of model: 478\n",
            "\n",
            "Train accuracy: 1.0\n",
            "Train accuracy per function: [1. 1. 1. 1. 1.]\n",
            "Test accuracy: 1.0\n",
            "Test accuracy per function: [1. 1. 1. 1. 1.]\n"
          ]
        }
      ],
      "source": [
        "# Formalization\n",
        "print(\"Layers:\", layers)\n",
        "print(\"Train size:\", len(X_train))\n",
        "print()\n",
        "\n",
        "# Clauses\n",
        "print(\"Number of hard clauses:\", len(wcnf.hard))\n",
        "print(\"Number of soft clauses:\", len(wcnf.soft))\n",
        "print(\"Time to add clauses: %dmin %02dsec\" % (layers_clauses_time / 60, layers_clauses_time % 60))\n",
        "print()\n",
        "\n",
        "# Model and solver\n",
        "print(\"Model computing time:  %dmin %02dsec\" % (model_compute_time / 60, model_compute_time % 60))\n",
        "print(\"Solver cost:\", solver.cost)\n",
        "print(\"Size of model:\", len(model))\n",
        "print()\n",
        "\n",
        "# Evaluation\n",
        "print(\"Train accuracy:\", np.round(train_acc,2))\n",
        "print(\"Train accuracy per function:\", np.round(train_acc_per_func,2))\n",
        "print(\"Test accuracy:\", np.round(test_acc,2))\n",
        "print(\"Test accuracy per function:\", np.round(test_acc_per_func,2))"
      ]
    }
  ],
  "metadata": {
    "colab": {
      "provenance": []
    },
    "kernelspec": {
      "display_name": "Python 3",
      "name": "python3"
    },
    "language_info": {
      "name": "python"
    }
  },
  "nbformat": 4,
  "nbformat_minor": 0
}
